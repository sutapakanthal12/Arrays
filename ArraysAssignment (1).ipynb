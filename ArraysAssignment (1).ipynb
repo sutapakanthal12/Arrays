{
 "cells": [
  {
   "cell_type": "code",
   "execution_count": 12,
   "id": "5b0dbb24-740b-41da-802b-2ab8211ef5f8",
   "metadata": {},
   "outputs": [],
   "source": [
    "def anydup(arr):\n",
    "    seen=[]\n",
    "    for i in arr:\n",
    "        if i in seen:\n",
    "            return True\n",
    "        seen.append(i)\n",
    "    return False    "
   ]
  },
  {
   "cell_type": "code",
   "execution_count": 13,
   "id": "9578fb1c-5056-4d22-8208-e8f245886baf",
   "metadata": {},
   "outputs": [
    {
     "data": {
      "text/plain": [
       "True"
      ]
     },
     "execution_count": 13,
     "metadata": {},
     "output_type": "execute_result"
    }
   ],
   "source": [
    "anydup([1,2,4,2,5,9])"
   ]
  },
  {
   "cell_type": "code",
   "execution_count": 19,
   "id": "a79a5596-a855-4c89-a304-0fd966a231a9",
   "metadata": {},
   "outputs": [
    {
     "name": "stdout",
     "output_type": "stream",
     "text": [
      "5 , 6 , 7 , 1 , 2 , 3 , 4 , "
     ]
    }
   ],
   "source": [
    "def rotate(arr,n,k):\n",
    "    k = k % n\n",
    "    for i in range(0,n):\n",
    "        if (i<k):\n",
    "            print(arr[n+i-k] , end = \" , \")\n",
    "        else:\n",
    "            print(arr[i - k],end=\" , \")\n",
    "            \n",
    "rotate([1,2,3,4,5,6,7],7,3)          "
   ]
  },
  {
   "cell_type": "code",
   "execution_count": 22,
   "id": "4cd4da12-a0cc-462a-b7f2-7565d7b84b79",
   "metadata": {},
   "outputs": [
    {
     "name": "stdout",
     "output_type": "stream",
     "text": [
      "after reversing array: [12, 9, 7, 5, 4, 2]\n"
     ]
    }
   ],
   "source": [
    "arr=[2,4,5,7,9,12]\n",
    "\n",
    "arr.reverse()\n",
    "print(\"after reversing array:\",arr)\n",
    "      "
   ]
  },
  {
   "cell_type": "code",
   "execution_count": 25,
   "id": "70ce2a13-865b-4b73-8b67-7af0fc02ce06",
   "metadata": {},
   "outputs": [
    {
     "name": "stdout",
     "output_type": "stream",
     "text": [
      "20\n"
     ]
    }
   ],
   "source": [
    "def largest(arr,n):\n",
    "    max=arr[0]\n",
    "    for i in range(0,n):\n",
    "        if arr[i]>max:\n",
    "            max=arr[i]\n",
    "    return max\n",
    "\n",
    "arr=[10,5,20,8,15]\n",
    "n=len(arr)\n",
    "maximum_number = largest(arr,n)\n",
    "print(maximum_number)"
   ]
  },
  {
   "cell_type": "code",
   "execution_count": null,
   "id": "4356ec5c-8c94-46c6-a00e-a2a8c5519fe2",
   "metadata": {},
   "outputs": [],
   "source": []
  }
 ],
 "metadata": {
  "kernelspec": {
   "display_name": "Python 3 (ipykernel)",
   "language": "python",
   "name": "python3"
  },
  "language_info": {
   "codemirror_mode": {
    "name": "ipython",
    "version": 3
   },
   "file_extension": ".py",
   "mimetype": "text/x-python",
   "name": "python",
   "nbconvert_exporter": "python",
   "pygments_lexer": "ipython3",
   "version": "3.10.8"
  }
 },
 "nbformat": 4,
 "nbformat_minor": 5
}
